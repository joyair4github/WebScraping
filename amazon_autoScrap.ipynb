{
 "cells": [
  {
   "cell_type": "markdown",
   "metadata": {},
   "source": [
    "# AUTO WEB SCRAPING"
   ]
  },
  {
   "cell_type": "markdown",
   "metadata": {},
   "source": [
    "### pip istall autoscraper"
   ]
  },
  {
   "cell_type": "code",
   "execution_count": 32,
   "metadata": {},
   "outputs": [],
   "source": [
    "from autoscraper import AutoScraper"
   ]
  },
  {
   "cell_type": "code",
   "execution_count": 33,
   "metadata": {},
   "outputs": [],
   "source": [
    "amazon_url = \"https://www.amazon.in/s?k=iphone\"\n",
    "\n",
    "wanted_list = [\"₹34,999\",\"Apple iPhone XR (64GB) - White\",\"4,000\"]"
   ]
  },
  {
   "cell_type": "markdown",
   "metadata": {},
   "source": [
    "## pip install pyopenssl \n",
    "Install on teminal to no excess request limit SSL"
   ]
  },
  {
   "cell_type": "code",
   "execution_count": 34,
   "metadata": {},
   "outputs": [
    {
     "name": "stdout",
     "output_type": "stream",
     "text": [
      "['₹64,900', '₹74,900', '₹14,999', '₹24,999', '₹69,900', '₹99,900', '₹1,29,900', '₹34,999', '₹47,900', '₹1,19,900', '₹79,900', '₹58,990', '₹39,999', '₹57,800', '₹33,999', '₹14,799', 'New Apple iPhone 12 Mini (128GB) - Black', '5S Gold Compatible with Apple iPhone with 8 Mega Pixel Camera(16GB Internal Memory)', 'Apple iPhone 13 Mini (128GB) - (Product) RED', 'New Apple iPhone 12 Pro (256GB) - Gold', 'Apple iPhone XR (64GB) - Yellow', 'New Apple iPhone 12 Pro (128GB) - Pacific Blue', 'Apple iPhone 13 Mini (256GB) - Starlight', 'Apple iPhone 12 Mini (128GB) - Green', 'New Apple iPhone 12 Mini (128GB) - (Product) RED', 'Apple iPhone 13 Mini (256GB) - Midnight', 'Apple iPhone XR (64GB) - Coral', 'Apple iPhone XR (128GB) - (Product) RED', 'Apple iPhone XR (64GB) - (Product) RED', 'Apple iPhone 13 Mini (256GB) - Pink', 'Apple iPhone XR (64GB) - White', 'Apple iPhone 11 (256GB) - (Product) RED']\n"
     ]
    }
   ],
   "source": [
    "scraper = AutoScraper()\n",
    "result = scraper.build(amazon_url,wanted_list)\n",
    "print(result)"
   ]
  },
  {
   "cell_type": "code",
   "execution_count": 38,
   "metadata": {},
   "outputs": [
    {
     "name": "stdout",
     "output_type": "stream",
     "text": [
      "{'rule_53p1': ['₹14,999', '₹24,999', '₹64,900', '₹74,900', '₹69,900', '₹39,999', '₹57,800', '₹34,999', '₹47,900', '₹34,999', '₹47,900', '₹99,900', '₹1,29,900', '₹33,999', '₹47,900', '₹99,900', '₹1,19,900', '₹40,999', '₹52,900', '₹79,900', '₹34,999', '₹47,900', '₹64,900', '₹74,900', '₹14,799', '₹24,999', '₹58,990', '₹64,900', '₹59,900', '₹69,900'], 'rule_xd0r': ['₹14,999', '₹24,999', '₹64,900', '₹74,900', '₹69,900', '₹39,999', '₹57,800', '₹34,999', '₹47,900', '₹34,999', '₹47,900', '₹99,900', '₹1,29,900', '₹33,999', '₹47,900', '₹99,900', '₹1,19,900', '₹40,999', '₹52,900', '₹79,900', '₹34,999', '₹47,900', '₹64,900', '₹74,900', '₹14,799', '₹24,999', '₹58,990', '₹64,900', '₹59,900', '₹69,900'], 'rule_ihlz': ['₹14,999', '₹24,999', '₹64,900', '₹74,900', '₹69,900', '₹39,999', '₹57,800', '₹34,999', '₹47,900', '₹34,999', '₹47,900', '₹99,900', '₹1,29,900', '₹33,999', '₹47,900', '₹99,900', '₹1,19,900', '₹40,999', '₹52,900', '₹79,900', '₹34,999', '₹47,900', '₹64,900', '₹74,900', '₹14,799', '₹24,999', '₹58,990', '₹64,900', '₹59,900', '₹69,900'], 'rule_6m4r': ['₹14,999', '₹24,999', '₹64,900', '₹74,900', '₹69,900', '₹39,999', '₹57,800', '₹34,999', '₹47,900', '₹34,999', '₹47,900', '₹99,900', '₹1,29,900', '₹33,999', '₹47,900', '₹99,900', '₹1,19,900', '₹40,999', '₹52,900', '₹79,900', '₹34,999', '₹47,900', '₹64,900', '₹74,900', '₹14,799', '₹24,999', '₹58,990', '₹64,900', '₹59,900', '₹69,900'], 'rule_jzbw': ['₹14,999', '₹24,999', '₹64,900', '₹74,900', '₹69,900', '₹39,999', '₹57,800', '₹34,999', '₹47,900', '₹34,999', '₹47,900', '₹99,900', '₹1,29,900', '₹33,999', '₹47,900', '₹99,900', '₹1,19,900', '₹40,999', '₹52,900', '₹79,900', '₹34,999', '₹47,900', '₹64,900', '₹74,900', '₹14,799', '₹24,999', '₹58,990', '₹64,900', '₹59,900', '₹69,900'], 'rule_60lk': ['₹14,999', '₹24,999', '₹64,900', '₹74,900', '₹69,900', '₹39,999', '₹57,800', '₹34,999', '₹47,900', '₹34,999', '₹47,900', '₹99,900', '₹1,29,900', '₹33,999', '₹47,900', '₹99,900', '₹1,19,900', '₹40,999', '₹52,900', '₹79,900', '₹34,999', '₹47,900', '₹64,900', '₹74,900', '₹14,799', '₹24,999', '₹58,990', '₹64,900', '₹59,900', '₹69,900'], 'rule_peay': ['₹34,999', '₹47,900', '₹64,900', '₹69,900'], 'rule_9th4': ['₹34,999', '₹47,900', '₹64,900', '₹69,900'], 'rule_dyjn': ['5S Gold Compatible with Apple iPhone with 8 Mega Pixel Camera(16GB Internal Memory)', 'New Apple iPhone 12 Mini (128GB) - Black', 'Apple iPhone 13 Mini (128GB) - (Product) RED', 'Apple iPhone XR (128GB) - (Product) RED', 'Apple iPhone XR (64GB) - White', 'Apple iPhone XR (64GB) - Yellow', 'New Apple iPhone 12 Pro (256GB) - Gold', 'Apple iPhone XR (64GB) - (Product) RED', 'New Apple iPhone 12 Pro (128GB) - Pacific Blue', 'Apple iPhone XR (128GB) - Black', 'Apple iPhone 13 Mini (256GB) - Midnight', 'Apple iPhone XR (64GB) - Coral', 'Apple iPhone 12 Mini (128GB) - Green', '5S Gold Compatible with Apple iPhone with 8 Mega Pixel Camera(16GB Internal Memory)', 'New Apple iPhone 12 Mini (128GB) - (Product) RED', 'New Apple iPhone 12 Mini (64GB) - Green'], 'rule_2ple': ['5S Gold Compatible with Apple iPhone with 8 Mega Pixel Camera(16GB Internal Memory)', 'New Apple iPhone 12 Mini (128GB) - Black', 'Apple iPhone 13 Mini (128GB) - (Product) RED', 'Apple iPhone XR (128GB) - (Product) RED', 'Apple iPhone XR (64GB) - White', 'Apple iPhone XR (64GB) - Yellow', 'New Apple iPhone 12 Pro (256GB) - Gold', 'Apple iPhone XR (64GB) - (Product) RED', 'New Apple iPhone 12 Pro (128GB) - Pacific Blue', 'Apple iPhone XR (128GB) - Black', 'Apple iPhone 13 Mini (256GB) - Midnight', 'Apple iPhone XR (64GB) - Coral', 'Apple iPhone 12 Mini (128GB) - Green', '5S Gold Compatible with Apple iPhone with 8 Mega Pixel Camera(16GB Internal Memory)', 'New Apple iPhone 12 Mini (128GB) - (Product) RED', 'New Apple iPhone 12 Mini (64GB) - Green'], 'rule_vck4': ['Apple iPhone XR (64GB) - White', 'Apple iPhone 11 (256GB) - (Product) RED']}\n"
     ]
    }
   ],
   "source": [
    "sc= scraper.get_result_similar(amazon_url, grouped= True)\n",
    "print(sc)"
   ]
  },
  {
   "cell_type": "code",
   "execution_count": 39,
   "metadata": {},
   "outputs": [],
   "source": [
    "scraper.set_rule_aliases({'rule_dyjn':'Title', 'rule_53p1':'Price'})\n",
    "scraper.keep_rules(['rule_dyjn','rule_53p1'])\n",
    "scraper.save('amazon-search')"
   ]
  },
  {
   "cell_type": "code",
   "execution_count": 40,
   "metadata": {},
   "outputs": [
    {
     "name": "stdout",
     "output_type": "stream",
     "text": [
      "{'Price': ['₹9,499', '₹10,999', '₹6,999', '₹8,499', '₹9,499', '₹10,999', '₹7,999', '₹8,299', '₹7,999', '₹9,499', '₹9,499', '₹10,999', '₹6,999', '₹8,499', '₹6,999', '₹8,499', '₹7,999', '₹9,499', '₹7,287', '₹8,999', '₹8,599', '₹15,357'], 'Title': ['Amazon\\'s Choicefor \"mi phone under 10000\"', 'Redmi 9 Activ (Carbon Black, 4GB RAM, 64GB Storage)', 'Redmi 9A (Nature Green, 2GB RAM, 32GB Storage) | 2GHz Octa-core Helio G25 Processor | 5000 mAh Battery', 'Redmi 9 (Sporty Orange, 4GB RAM, 64GB Storage) | 2.3GHz Mediatek Helio G35 Octa core Processor', 'Redmi 9A (Nature Green, 3GB Ram, 32GB Storage) | 2GHz Octa-core Helio G25 Processor', 'Redmi 9A(Midnight Black 3GB RAM 32GB Storage) | 2GHz Octa-core Helio G25 Processor | 5000 mAh Battery', 'Redmi 9 Activ (Coral Green, 4GB RAM, 64GB Storage)', 'Best sellerin Electronics', 'Redmi 9A (Midnight Black 2GB RAM 32GB Storage) | 2GHz Octa-core Helio G25 Processor | 5000 mAh Battery', 'Redmi 9A (Sea Blue 2GB RAM 32GB Storage) | 2GHz Octa-core Helio G25 Processor | 5000 mAh Battery', 'Redmi 2GB RAM, 32GB Storage Mi 6A, Black', 'Redmi 9A (Sea Blue 3GB RAM 32GB Storage)| 2GHz Octa-core Helio G25 Processor | 5000 mAh Battery', 'Redmi 2GB RAM, 32GB Storage Mi 6A, Rose Gold', 'Redmi 2GB RAM, 16GB Storage Mi 6A, Blue', '(Renewed) Redmi Note 5 Pro (Gold, 4GB RAM, 64GB Storage)', '(Renewed) Redmi Y3 (Prime Black, 3GB RAM, 32MP Selfie Camera, 32GB Storage, 4000mAH Battery)', '(Renewed) Mi Redmi 5 (Black, 32GB)', '(Renewed) Redmi Y3 (Bold Red, 3GB RAM, 32MP Selfie Camera, 32GB Storage, 4000mAH Battery)']}\n"
     ]
    }
   ],
   "source": [
    "results = scraper.get_result_similar('https://www.amazon.in/s?k=mi+phone+under+10000', group_by_alias= True)\n",
    "print(results)"
   ]
  },
  {
   "cell_type": "code",
   "execution_count": 41,
   "metadata": {},
   "outputs": [
    {
     "name": "stdout",
     "output_type": "stream",
     "text": [
      "['Amazon\\'s Choicefor \"mi phone under 10000\"', 'Redmi 9 Activ (Carbon Black, 4GB RAM, 64GB Storage)', 'Redmi 9A (Nature Green, 2GB RAM, 32GB Storage) | 2GHz Octa-core Helio G25 Processor | 5000 mAh Battery', 'Redmi 9 (Sporty Orange, 4GB RAM, 64GB Storage) | 2.3GHz Mediatek Helio G35 Octa core Processor', 'Redmi 9A (Nature Green, 3GB Ram, 32GB Storage) | 2GHz Octa-core Helio G25 Processor', 'Redmi 9A(Midnight Black 3GB RAM 32GB Storage) | 2GHz Octa-core Helio G25 Processor | 5000 mAh Battery', 'Redmi 9 Activ (Coral Green, 4GB RAM, 64GB Storage)', 'Best sellerin Electronics', 'Redmi 9A (Midnight Black 2GB RAM 32GB Storage) | 2GHz Octa-core Helio G25 Processor | 5000 mAh Battery', 'Redmi 9A (Sea Blue 2GB RAM 32GB Storage) | 2GHz Octa-core Helio G25 Processor | 5000 mAh Battery', 'Redmi 2GB RAM, 32GB Storage Mi 6A, Black', 'Redmi 9A (Sea Blue 3GB RAM 32GB Storage)| 2GHz Octa-core Helio G25 Processor | 5000 mAh Battery', 'Redmi 2GB RAM, 32GB Storage Mi 6A, Rose Gold', 'Redmi 2GB RAM, 16GB Storage Mi 6A, Blue', '(Renewed) Redmi Note 5 Pro (Gold, 4GB RAM, 64GB Storage)', '(Renewed) Redmi Y3 (Prime Black, 3GB RAM, 32MP Selfie Camera, 32GB Storage, 4000mAH Battery)', '(Renewed) Mi Redmi 5 (Black, 32GB)', '(Renewed) Redmi Y3 (Bold Red, 3GB RAM, 32MP Selfie Camera, 32GB Storage, 4000mAH Battery)']\n"
     ]
    }
   ],
   "source": [
    "print(results['Title'])"
   ]
  },
  {
   "cell_type": "code",
   "execution_count": 42,
   "metadata": {},
   "outputs": [
    {
     "name": "stdout",
     "output_type": "stream",
     "text": [
      "['₹9,499', '₹10,999', '₹6,999', '₹8,499', '₹9,499', '₹10,999', '₹7,999', '₹8,299', '₹7,999', '₹9,499', '₹9,499', '₹10,999', '₹6,999', '₹8,499', '₹6,999', '₹8,499', '₹7,999', '₹9,499', '₹7,287', '₹8,999', '₹8,599', '₹15,357']\n"
     ]
    }
   ],
   "source": [
    "print(results['Price'])"
   ]
  },
  {
   "cell_type": "code",
   "execution_count": null,
   "metadata": {},
   "outputs": [],
   "source": []
  }
 ],
 "metadata": {
  "interpreter": {
   "hash": "3d597f4c481aa0f25dceb95d2a0067e73c0966dcbd003d741d821a7208527ecf"
  },
  "kernelspec": {
   "display_name": "Python 3.9.5 64-bit ('base': conda)",
   "language": "python",
   "name": "python3"
  },
  "language_info": {
   "codemirror_mode": {
    "name": "ipython",
    "version": 3
   },
   "file_extension": ".py",
   "mimetype": "text/x-python",
   "name": "python",
   "nbconvert_exporter": "python",
   "pygments_lexer": "ipython3",
   "version": "3.9.5"
  },
  "orig_nbformat": 4
 },
 "nbformat": 4,
 "nbformat_minor": 2
}
