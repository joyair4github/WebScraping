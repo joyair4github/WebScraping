{
 "cells": [
  {
   "cell_type": "markdown",
   "metadata": {},
   "source": [
    "# WebScraping -- Meesho"
   ]
  },
  {
   "cell_type": "code",
   "execution_count": 745,
   "metadata": {},
   "outputs": [],
   "source": [
    "import pandas as pd\n",
    "import requests\n",
    "from bs4 import BeautifulSoup"
   ]
  },
  {
   "cell_type": "code",
   "execution_count": 746,
   "metadata": {},
   "outputs": [],
   "source": [
    "url = \"https://meesho.com/tshirts-men/pl/t3brl?page=1\""
   ]
  },
  {
   "cell_type": "code",
   "execution_count": 747,
   "metadata": {},
   "outputs": [],
   "source": [
    "r = requests.get(url)\n",
    "htmlcontent =  r.content"
   ]
  },
  {
   "cell_type": "code",
   "execution_count": 748,
   "metadata": {},
   "outputs": [],
   "source": [
    "soup = BeautifulSoup(htmlcontent,'html.parser')"
   ]
  },
  {
   "cell_type": "code",
   "execution_count": 749,
   "metadata": {},
   "outputs": [
    {
     "name": "stdout",
     "output_type": "stream",
     "text": [
      "[\" Men's Regular Fit T-Shirt\", 'Half Sleeves Drifit /4way/Crush Lycra T-Shirt', 'Fashionable Unisex Graphic Tshirt', 'Half Sleeves Drifit /4way/Crush Lycra active Tshirts ', 'SSFIT ROUND NECK RED T-SHIRT', 'White Full Sleeves T-Shirt With Single Black Stripe & Wrist', \"Men's Round Neck T-SHIRT\", \"Men's Polo T - Shirt With Cut n Sew On Font\", 'Trendy Partywear Men Tshirts', 'Fashionable Unisex Graphic Tshirt', '100% Pure Bio-Washed Cotton Plain t-Shirts for Men & Boys | Long Lasting & Durable Fabric for Man Tshirt Cotton', 'High Quality 100% cotton Unisex Solid T-shirts', 'Fancy Fashionable Men Tshirts', 'Half Sleeves Drifit /4way/Crush Lycra T-Shirt', 'Half Sleeves Drifit /4way/Crush Lycra T-Shirt', 'Polo Plus Men Grey Text Printed Half Sleeve Cotton T-Shirt', 'Fashionable Unisex Graphic Tshirt', \" Men's Regular Fit T-Shirt\", 'Tshirts', 'Comfy Latest Men Tshirts']\n"
     ]
    }
   ],
   "source": [
    "Name = soup.findAll(attrs = {'class':\"Text__StyledText-sc-oo0kvp-0 bWSOET NewProductCard__ProductTitle_Desktop-sc-j0e7tu-4 cQhePS NewProductCard__ProductTitle_Desktop-sc-j0e7tu-4 cQhePS\"})\n",
    "ProductName = []\n",
    "rows = len(Name)\n",
    "for i in range(0,rows):\n",
    " Product = Name[i].text\n",
    " ProductName += [Product]\n",
    "print(ProductName)"
   ]
  },
  {
   "cell_type": "code",
   "execution_count": 750,
   "metadata": {},
   "outputs": [],
   "source": [
    "# SectionVar = soup.findAll(attrs = {'class':\"ProductListingContent__HeadLine1-sc-e96brm-0 hXLzGF\"})\n",
    "# #for i in range(0,rows):\n",
    "# Section = SectionVar[1].text\n",
    "# print(Section)"
   ]
  },
  {
   "cell_type": "code",
   "execution_count": 751,
   "metadata": {},
   "outputs": [
    {
     "name": "stdout",
     "output_type": "stream",
     "text": [
      "['₹208', '₹215', '₹446', '₹215', '₹164', '₹326', '₹327', '₹401', '₹400', '₹446', '₹316', '₹567', '₹400', '₹215', '₹215', '₹215', '₹446', '₹210', '₹173', '₹567']\n"
     ]
    }
   ],
   "source": [
    "PriceVar = soup.findAll(attrs = {'class':\"Text__StyledText-sc-oo0kvp-0 hiHdyy\"})\n",
    "Price = []\n",
    "for i in range(0,rows):\n",
    " PriceCar = PriceVar[i].text\n",
    " Price += [PriceCar]\n",
    "print(Price)"
   ]
  },
  {
   "cell_type": "code",
   "execution_count": 752,
   "metadata": {},
   "outputs": [
    {
     "name": "stdout",
     "output_type": "stream",
     "text": [
      "['30', '30', '18', '30', '30', '23', '23', '20', '20', '18', '24', '15', '20', '30', '30', '30', '18', '30', '30', '15']\n"
     ]
    }
   ],
   "source": [
    "DiscountVar = soup.findAll(attrs = {'class':\"Text__StyledText-sc-oo0kvp-0 lnonyH\"})\n",
    "Discount = []\n",
    "for i in range(0,rows):\n",
    " DiscountCar = DiscountVar[i].text.replace(\"% off\",\"\")\n",
    " Discount += [DiscountCar]\n",
    "print(Discount)"
   ]
  },
  {
   "cell_type": "code",
   "execution_count": 753,
   "metadata": {},
   "outputs": [
    {
     "name": "stdout",
     "output_type": "stream",
     "text": [
      "['Free Delivery', 'Free Delivery', 'Free Delivery', 'Free Delivery', 'Free Delivery', 'Free Delivery', 'Free Delivery', 'Free Delivery', 'Free Delivery', 'Free Delivery', 'Free Delivery', 'Free Delivery', 'Free Delivery', 'Free Delivery', 'Free Delivery', 'Free Delivery', 'Free Delivery', 'Free Delivery', 'Free Delivery', 'Free Delivery']\n"
     ]
    }
   ],
   "source": [
    "DeliveryVar = soup.findAll(attrs = {'class':\"Badge__StyledBadge-sc-1o15k3y-0 dSqlNm\"})\n",
    "DeliveryCharge=[]\n",
    "for i in range(0,rows):\n",
    " Delivery = DeliveryVar[i].text.replace(\"₹70\",\"\") #.replace('Delivery',\"\").replace(\"Free\",\"0\")\n",
    " DeliveryCharge += [Delivery]\n",
    "print(DeliveryCharge)\n",
    " "
   ]
  },
  {
   "cell_type": "code",
   "execution_count": 754,
   "metadata": {},
   "outputs": [],
   "source": [
    "# RatingVar = soup.findAll(attrs = {'class':\"Text__StyledText-sc-oo0kvp-0 fpunvK\"})\n",
    "# for i in range(0,rows):\n",
    "#  Rating = float(RatingVar[i].text)\n",
    "#  print(Rating)\n"
   ]
  },
  {
   "cell_type": "code",
   "execution_count": 755,
   "metadata": {},
   "outputs": [
    {
     "name": "stdout",
     "output_type": "stream",
     "text": [
      "['https://meesho.com/tshirts-men/pl/t3brl?page=1', 'https://meesho.com/tshirts-men/pl/t3brl?page=1', 'https://meesho.com/tshirts-men/pl/t3brl?page=1', 'https://meesho.com/tshirts-men/pl/t3brl?page=1', 'https://meesho.com/tshirts-men/pl/t3brl?page=1', 'https://meesho.com/tshirts-men/pl/t3brl?page=1', 'https://meesho.com/tshirts-men/pl/t3brl?page=1', 'https://meesho.com/tshirts-men/pl/t3brl?page=1', 'https://meesho.com/tshirts-men/pl/t3brl?page=1', 'https://meesho.com/tshirts-men/pl/t3brl?page=1', 'https://meesho.com/tshirts-men/pl/t3brl?page=1', 'https://meesho.com/tshirts-men/pl/t3brl?page=1', 'https://meesho.com/tshirts-men/pl/t3brl?page=1', 'https://meesho.com/tshirts-men/pl/t3brl?page=1', 'https://meesho.com/tshirts-men/pl/t3brl?page=1', 'https://meesho.com/tshirts-men/pl/t3brl?page=1', 'https://meesho.com/tshirts-men/pl/t3brl?page=1', 'https://meesho.com/tshirts-men/pl/t3brl?page=1', 'https://meesho.com/tshirts-men/pl/t3brl?page=1', 'https://meesho.com/tshirts-men/pl/t3brl?page=1']\n"
     ]
    }
   ],
   "source": [
    "Link = []\n",
    "for i in range(0,rows):\n",
    "    Link += [url]\n",
    "print(Link) "
   ]
  },
  {
   "cell_type": "code",
   "execution_count": 756,
   "metadata": {},
   "outputs": [
    {
     "name": "stdout",
     "output_type": "stream",
     "text": [
      "[('https://meesho.com/tshirts-men/pl/t3brl?page=1', \" Men's Regular Fit T-Shirt\", '₹208', '30', 'Free Delivery'), ('https://meesho.com/tshirts-men/pl/t3brl?page=1', 'Half Sleeves Drifit /4way/Crush Lycra T-Shirt', '₹215', '30', 'Free Delivery'), ('https://meesho.com/tshirts-men/pl/t3brl?page=1', 'Fashionable Unisex Graphic Tshirt', '₹446', '18', 'Free Delivery'), ('https://meesho.com/tshirts-men/pl/t3brl?page=1', 'Half Sleeves Drifit /4way/Crush Lycra active Tshirts ', '₹215', '30', 'Free Delivery'), ('https://meesho.com/tshirts-men/pl/t3brl?page=1', 'SSFIT ROUND NECK RED T-SHIRT', '₹164', '30', 'Free Delivery'), ('https://meesho.com/tshirts-men/pl/t3brl?page=1', 'White Full Sleeves T-Shirt With Single Black Stripe & Wrist', '₹326', '23', 'Free Delivery'), ('https://meesho.com/tshirts-men/pl/t3brl?page=1', \"Men's Round Neck T-SHIRT\", '₹327', '23', 'Free Delivery'), ('https://meesho.com/tshirts-men/pl/t3brl?page=1', \"Men's Polo T - Shirt With Cut n Sew On Font\", '₹401', '20', 'Free Delivery'), ('https://meesho.com/tshirts-men/pl/t3brl?page=1', 'Trendy Partywear Men Tshirts', '₹400', '20', 'Free Delivery'), ('https://meesho.com/tshirts-men/pl/t3brl?page=1', 'Fashionable Unisex Graphic Tshirt', '₹446', '18', 'Free Delivery'), ('https://meesho.com/tshirts-men/pl/t3brl?page=1', '100% Pure Bio-Washed Cotton Plain t-Shirts for Men & Boys | Long Lasting & Durable Fabric for Man Tshirt Cotton', '₹316', '24', 'Free Delivery'), ('https://meesho.com/tshirts-men/pl/t3brl?page=1', 'High Quality 100% cotton Unisex Solid T-shirts', '₹567', '15', 'Free Delivery'), ('https://meesho.com/tshirts-men/pl/t3brl?page=1', 'Fancy Fashionable Men Tshirts', '₹400', '20', 'Free Delivery'), ('https://meesho.com/tshirts-men/pl/t3brl?page=1', 'Half Sleeves Drifit /4way/Crush Lycra T-Shirt', '₹215', '30', 'Free Delivery'), ('https://meesho.com/tshirts-men/pl/t3brl?page=1', 'Half Sleeves Drifit /4way/Crush Lycra T-Shirt', '₹215', '30', 'Free Delivery'), ('https://meesho.com/tshirts-men/pl/t3brl?page=1', 'Polo Plus Men Grey Text Printed Half Sleeve Cotton T-Shirt', '₹215', '30', 'Free Delivery'), ('https://meesho.com/tshirts-men/pl/t3brl?page=1', 'Fashionable Unisex Graphic Tshirt', '₹446', '18', 'Free Delivery'), ('https://meesho.com/tshirts-men/pl/t3brl?page=1', \" Men's Regular Fit T-Shirt\", '₹210', '30', 'Free Delivery'), ('https://meesho.com/tshirts-men/pl/t3brl?page=1', 'Tshirts', '₹173', '30', 'Free Delivery'), ('https://meesho.com/tshirts-men/pl/t3brl?page=1', 'Comfy Latest Men Tshirts', '₹567', '15', 'Free Delivery')]"
     ]
    }
   ],
   "source": [
    "# for i in range(0,rows):\n",
    "#     data = [[Link, ProductName[i], Price[i], Discount[i], DeliveryCharge[i]]]\n",
    "# print(data)\n",
    "\n",
    "Data = list(zip(Link,ProductName,Price,Discount,DeliveryCharge))\n",
    "print(Data, end=\"\")"
   ]
  },
  {
   "cell_type": "code",
   "execution_count": 757,
   "metadata": {},
   "outputs": [
    {
     "data": {
      "text/html": [
       "<div>\n",
       "<style scoped>\n",
       "    .dataframe tbody tr th:only-of-type {\n",
       "        vertical-align: middle;\n",
       "    }\n",
       "\n",
       "    .dataframe tbody tr th {\n",
       "        vertical-align: top;\n",
       "    }\n",
       "\n",
       "    .dataframe thead th {\n",
       "        text-align: right;\n",
       "    }\n",
       "</style>\n",
       "<table border=\"1\" class=\"dataframe\">\n",
       "  <thead>\n",
       "    <tr style=\"text-align: right;\">\n",
       "      <th></th>\n",
       "      <th>Link</th>\n",
       "      <th>ProductName</th>\n",
       "      <th>Price</th>\n",
       "      <th>Discount</th>\n",
       "      <th>DeliveryCharge</th>\n",
       "    </tr>\n",
       "  </thead>\n",
       "  <tbody>\n",
       "    <tr>\n",
       "      <th>0</th>\n",
       "      <td>https://meesho.com/tshirts-men/pl/t3brl?page=1</td>\n",
       "      <td>Men's Regular Fit T-Shirt</td>\n",
       "      <td>₹208</td>\n",
       "      <td>30</td>\n",
       "      <td>Free Delivery</td>\n",
       "    </tr>\n",
       "    <tr>\n",
       "      <th>1</th>\n",
       "      <td>https://meesho.com/tshirts-men/pl/t3brl?page=1</td>\n",
       "      <td>Half Sleeves Drifit /4way/Crush Lycra T-Shirt</td>\n",
       "      <td>₹215</td>\n",
       "      <td>30</td>\n",
       "      <td>Free Delivery</td>\n",
       "    </tr>\n",
       "    <tr>\n",
       "      <th>2</th>\n",
       "      <td>https://meesho.com/tshirts-men/pl/t3brl?page=1</td>\n",
       "      <td>Fashionable Unisex Graphic Tshirt</td>\n",
       "      <td>₹446</td>\n",
       "      <td>18</td>\n",
       "      <td>Free Delivery</td>\n",
       "    </tr>\n",
       "    <tr>\n",
       "      <th>3</th>\n",
       "      <td>https://meesho.com/tshirts-men/pl/t3brl?page=1</td>\n",
       "      <td>Half Sleeves Drifit /4way/Crush Lycra active T...</td>\n",
       "      <td>₹215</td>\n",
       "      <td>30</td>\n",
       "      <td>Free Delivery</td>\n",
       "    </tr>\n",
       "    <tr>\n",
       "      <th>4</th>\n",
       "      <td>https://meesho.com/tshirts-men/pl/t3brl?page=1</td>\n",
       "      <td>SSFIT ROUND NECK RED T-SHIRT</td>\n",
       "      <td>₹164</td>\n",
       "      <td>30</td>\n",
       "      <td>Free Delivery</td>\n",
       "    </tr>\n",
       "    <tr>\n",
       "      <th>5</th>\n",
       "      <td>https://meesho.com/tshirts-men/pl/t3brl?page=1</td>\n",
       "      <td>White Full Sleeves T-Shirt With Single Black S...</td>\n",
       "      <td>₹326</td>\n",
       "      <td>23</td>\n",
       "      <td>Free Delivery</td>\n",
       "    </tr>\n",
       "    <tr>\n",
       "      <th>6</th>\n",
       "      <td>https://meesho.com/tshirts-men/pl/t3brl?page=1</td>\n",
       "      <td>Men's Round Neck T-SHIRT</td>\n",
       "      <td>₹327</td>\n",
       "      <td>23</td>\n",
       "      <td>Free Delivery</td>\n",
       "    </tr>\n",
       "    <tr>\n",
       "      <th>7</th>\n",
       "      <td>https://meesho.com/tshirts-men/pl/t3brl?page=1</td>\n",
       "      <td>Men's Polo T - Shirt With Cut n Sew On Font</td>\n",
       "      <td>₹401</td>\n",
       "      <td>20</td>\n",
       "      <td>Free Delivery</td>\n",
       "    </tr>\n",
       "    <tr>\n",
       "      <th>8</th>\n",
       "      <td>https://meesho.com/tshirts-men/pl/t3brl?page=1</td>\n",
       "      <td>Trendy Partywear Men Tshirts</td>\n",
       "      <td>₹400</td>\n",
       "      <td>20</td>\n",
       "      <td>Free Delivery</td>\n",
       "    </tr>\n",
       "    <tr>\n",
       "      <th>9</th>\n",
       "      <td>https://meesho.com/tshirts-men/pl/t3brl?page=1</td>\n",
       "      <td>Fashionable Unisex Graphic Tshirt</td>\n",
       "      <td>₹446</td>\n",
       "      <td>18</td>\n",
       "      <td>Free Delivery</td>\n",
       "    </tr>\n",
       "    <tr>\n",
       "      <th>10</th>\n",
       "      <td>https://meesho.com/tshirts-men/pl/t3brl?page=1</td>\n",
       "      <td>100% Pure Bio-Washed Cotton Plain t-Shirts for...</td>\n",
       "      <td>₹316</td>\n",
       "      <td>24</td>\n",
       "      <td>Free Delivery</td>\n",
       "    </tr>\n",
       "    <tr>\n",
       "      <th>11</th>\n",
       "      <td>https://meesho.com/tshirts-men/pl/t3brl?page=1</td>\n",
       "      <td>High Quality 100% cotton Unisex Solid T-shirts</td>\n",
       "      <td>₹567</td>\n",
       "      <td>15</td>\n",
       "      <td>Free Delivery</td>\n",
       "    </tr>\n",
       "    <tr>\n",
       "      <th>12</th>\n",
       "      <td>https://meesho.com/tshirts-men/pl/t3brl?page=1</td>\n",
       "      <td>Fancy Fashionable Men Tshirts</td>\n",
       "      <td>₹400</td>\n",
       "      <td>20</td>\n",
       "      <td>Free Delivery</td>\n",
       "    </tr>\n",
       "    <tr>\n",
       "      <th>13</th>\n",
       "      <td>https://meesho.com/tshirts-men/pl/t3brl?page=1</td>\n",
       "      <td>Half Sleeves Drifit /4way/Crush Lycra T-Shirt</td>\n",
       "      <td>₹215</td>\n",
       "      <td>30</td>\n",
       "      <td>Free Delivery</td>\n",
       "    </tr>\n",
       "    <tr>\n",
       "      <th>14</th>\n",
       "      <td>https://meesho.com/tshirts-men/pl/t3brl?page=1</td>\n",
       "      <td>Half Sleeves Drifit /4way/Crush Lycra T-Shirt</td>\n",
       "      <td>₹215</td>\n",
       "      <td>30</td>\n",
       "      <td>Free Delivery</td>\n",
       "    </tr>\n",
       "    <tr>\n",
       "      <th>15</th>\n",
       "      <td>https://meesho.com/tshirts-men/pl/t3brl?page=1</td>\n",
       "      <td>Polo Plus Men Grey Text Printed Half Sleeve Co...</td>\n",
       "      <td>₹215</td>\n",
       "      <td>30</td>\n",
       "      <td>Free Delivery</td>\n",
       "    </tr>\n",
       "    <tr>\n",
       "      <th>16</th>\n",
       "      <td>https://meesho.com/tshirts-men/pl/t3brl?page=1</td>\n",
       "      <td>Fashionable Unisex Graphic Tshirt</td>\n",
       "      <td>₹446</td>\n",
       "      <td>18</td>\n",
       "      <td>Free Delivery</td>\n",
       "    </tr>\n",
       "    <tr>\n",
       "      <th>17</th>\n",
       "      <td>https://meesho.com/tshirts-men/pl/t3brl?page=1</td>\n",
       "      <td>Men's Regular Fit T-Shirt</td>\n",
       "      <td>₹210</td>\n",
       "      <td>30</td>\n",
       "      <td>Free Delivery</td>\n",
       "    </tr>\n",
       "    <tr>\n",
       "      <th>18</th>\n",
       "      <td>https://meesho.com/tshirts-men/pl/t3brl?page=1</td>\n",
       "      <td>Tshirts</td>\n",
       "      <td>₹173</td>\n",
       "      <td>30</td>\n",
       "      <td>Free Delivery</td>\n",
       "    </tr>\n",
       "    <tr>\n",
       "      <th>19</th>\n",
       "      <td>https://meesho.com/tshirts-men/pl/t3brl?page=1</td>\n",
       "      <td>Comfy Latest Men Tshirts</td>\n",
       "      <td>₹567</td>\n",
       "      <td>15</td>\n",
       "      <td>Free Delivery</td>\n",
       "    </tr>\n",
       "  </tbody>\n",
       "</table>\n",
       "</div>"
      ],
      "text/plain": [
       "                                              Link  \\\n",
       "0   https://meesho.com/tshirts-men/pl/t3brl?page=1   \n",
       "1   https://meesho.com/tshirts-men/pl/t3brl?page=1   \n",
       "2   https://meesho.com/tshirts-men/pl/t3brl?page=1   \n",
       "3   https://meesho.com/tshirts-men/pl/t3brl?page=1   \n",
       "4   https://meesho.com/tshirts-men/pl/t3brl?page=1   \n",
       "5   https://meesho.com/tshirts-men/pl/t3brl?page=1   \n",
       "6   https://meesho.com/tshirts-men/pl/t3brl?page=1   \n",
       "7   https://meesho.com/tshirts-men/pl/t3brl?page=1   \n",
       "8   https://meesho.com/tshirts-men/pl/t3brl?page=1   \n",
       "9   https://meesho.com/tshirts-men/pl/t3brl?page=1   \n",
       "10  https://meesho.com/tshirts-men/pl/t3brl?page=1   \n",
       "11  https://meesho.com/tshirts-men/pl/t3brl?page=1   \n",
       "12  https://meesho.com/tshirts-men/pl/t3brl?page=1   \n",
       "13  https://meesho.com/tshirts-men/pl/t3brl?page=1   \n",
       "14  https://meesho.com/tshirts-men/pl/t3brl?page=1   \n",
       "15  https://meesho.com/tshirts-men/pl/t3brl?page=1   \n",
       "16  https://meesho.com/tshirts-men/pl/t3brl?page=1   \n",
       "17  https://meesho.com/tshirts-men/pl/t3brl?page=1   \n",
       "18  https://meesho.com/tshirts-men/pl/t3brl?page=1   \n",
       "19  https://meesho.com/tshirts-men/pl/t3brl?page=1   \n",
       "\n",
       "                                          ProductName Price Discount  \\\n",
       "0                           Men's Regular Fit T-Shirt  ₹208       30   \n",
       "1       Half Sleeves Drifit /4way/Crush Lycra T-Shirt  ₹215       30   \n",
       "2                   Fashionable Unisex Graphic Tshirt  ₹446       18   \n",
       "3   Half Sleeves Drifit /4way/Crush Lycra active T...  ₹215       30   \n",
       "4                        SSFIT ROUND NECK RED T-SHIRT  ₹164       30   \n",
       "5   White Full Sleeves T-Shirt With Single Black S...  ₹326       23   \n",
       "6                            Men's Round Neck T-SHIRT  ₹327       23   \n",
       "7         Men's Polo T - Shirt With Cut n Sew On Font  ₹401       20   \n",
       "8                        Trendy Partywear Men Tshirts  ₹400       20   \n",
       "9                   Fashionable Unisex Graphic Tshirt  ₹446       18   \n",
       "10  100% Pure Bio-Washed Cotton Plain t-Shirts for...  ₹316       24   \n",
       "11     High Quality 100% cotton Unisex Solid T-shirts  ₹567       15   \n",
       "12                      Fancy Fashionable Men Tshirts  ₹400       20   \n",
       "13      Half Sleeves Drifit /4way/Crush Lycra T-Shirt  ₹215       30   \n",
       "14      Half Sleeves Drifit /4way/Crush Lycra T-Shirt  ₹215       30   \n",
       "15  Polo Plus Men Grey Text Printed Half Sleeve Co...  ₹215       30   \n",
       "16                  Fashionable Unisex Graphic Tshirt  ₹446       18   \n",
       "17                          Men's Regular Fit T-Shirt  ₹210       30   \n",
       "18                                            Tshirts  ₹173       30   \n",
       "19                           Comfy Latest Men Tshirts  ₹567       15   \n",
       "\n",
       "   DeliveryCharge  \n",
       "0   Free Delivery  \n",
       "1   Free Delivery  \n",
       "2   Free Delivery  \n",
       "3   Free Delivery  \n",
       "4   Free Delivery  \n",
       "5   Free Delivery  \n",
       "6   Free Delivery  \n",
       "7   Free Delivery  \n",
       "8   Free Delivery  \n",
       "9   Free Delivery  \n",
       "10  Free Delivery  \n",
       "11  Free Delivery  \n",
       "12  Free Delivery  \n",
       "13  Free Delivery  \n",
       "14  Free Delivery  \n",
       "15  Free Delivery  \n",
       "16  Free Delivery  \n",
       "17  Free Delivery  \n",
       "18  Free Delivery  \n",
       "19  Free Delivery  "
      ]
     },
     "execution_count": 757,
     "metadata": {},
     "output_type": "execute_result"
    }
   ],
   "source": [
    "df = pd.DataFrame(Data, columns = ['Link', 'ProductName', 'Price', 'Discount', 'DeliveryCharge'])\n",
    "#df = pd.DataFrame(list(zip(Data.url, Data.ProductName, Data.Price, Data.Discount, Data.DeliveryCharge)), columns = ['url', 'ProductName', 'Price', 'Discount', 'DeliveryCharge'])\n",
    "#print(df)\n",
    "df.head()\n",
    "#df.tail()\n",
    "#print(df)\n",
    "df"
   ]
  },
  {
   "cell_type": "markdown",
   "metadata": {},
   "source": [
    "## For multiple pages"
   ]
  },
  {
   "cell_type": "code",
   "execution_count": 758,
   "metadata": {},
   "outputs": [
    {
     "name": "stdout",
     "output_type": "stream",
     "text": [
      "Data fetch successfully 2\n",
      "Data fetch successfully 3\n",
      "Data fetch successfully 4\n",
      "Data fetch successfully 5\n",
      "Data fetch successfully 6\n",
      "Data fetch successfully 7\n",
      "Data fetch successfully 8\n",
      "Data fetch successfully 9\n"
     ]
    }
   ],
   "source": [
    "for i in range(2,10):\n",
    "    URL = \"https://meesho.com/tshirts-men/pl/t3brl?page=\" +str(i)\n",
    "    r = requests.get(URL)\n",
    "    if(r.status_code==200):\n",
    "        print(\"Data fetch successfully\", i)\n",
    "        soup = BeautifulSoup(r.content, 'html.parser')\n",
    "    #    sectionVar = soup.findAll(attrs = {'class':\"ProductListingContent__HeadLine1-sc-e96brm-0 hXLzGF\"}).text\n",
    "    #    index = int(soup.find(attrs= {'class':\"Text__StyledText-sc-oo0kvp-0 dbevPN\"}).text.replace('Showing',\"\").replace('-',\"\"))\n",
    "        \n",
    "        # name = soup.findAll(attrs = {'class':\"Text__StyledText-sc-oo0kvp-0 bWSOET NewProductCard__ProductTitle_Desktop-sc-j0e7tu-4 cQhePS NewProductCard__ProductTitle_Desktop-sc-j0e7tu-4 cQhePS\"})\n",
    "        # pricevar = soup.findAll(attrs = {'class':\"Text__StyledText-sc-oo0kvp-0 hiHdyy\"})\n",
    "        # discountvar = soup.findAll(attrs = {'class':\"Text__StyledText-sc-oo0kvp-0 lnonyH\"})\n",
    "        # deliveryvar = soup.findAll(attrs = {'class':\"Text__StyledText-sc-oo0kvp-0 iFGSag\"})\n",
    "         \n",
    "        # pname = []\n",
    "        # price = []\n",
    "        # discount = []\n",
    "        # deliverycharge = []\n",
    "        # link = [URL]\n",
    "        # rows = len(name)\n",
    "        \n",
    "        # for j in range(0,rows):\n",
    "        #  product = name[j].text\n",
    "        #  pname = [product]\n",
    "        #  pricecar = pricevar[j].text\n",
    "        #  price  = [pricecar]\n",
    "        #  discountcar = discountvar[j].text.replace(\"% off\",\"\")\n",
    "        #  discount = [discountcar]\n",
    "        #  delivery = deliveryvar[j].text.replace(\"₹70\",\"\") #.replace('Delivery',\"\").replace(\"Free\",\"0\")\n",
    "        #  deliverycharge = [delivery]\n",
    "        #  data1 = list(zip(link, pname, price, discount, deliverycharge))\n",
    "        #  print(data1, end=\"\")\n",
    "        \n",
    "        #  df.loc[len(df)] = [link, pname, price, discount, deliverycharge]\n",
    "\n",
    "\n",
    "\n",
    "        pname = soup.find(attrs = {'class':\"Text__StyledText-sc-oo0kvp-0 bWSOET NewProductCard__ProductTitle_Desktop-sc-j0e7tu-4 cQhePS NewProductCard__ProductTitle_Desktop-sc-j0e7tu-4 cQhePS\"}).text\n",
    "        price = soup.find(attrs = {'class':\"Text__StyledText-sc-oo0kvp-0 hiHdyy\"}).text\n",
    "        discount = soup.find(attrs = {'class':\"Text__StyledText-sc-oo0kvp-0 lnonyH\"}).text.replace(\"% off\",\"\")\n",
    "        delivery = soup.find(attrs = {'class':\"Text__StyledText-sc-oo0kvp-0 iFGSag\"}).text\n",
    "       # ratingVar = float(soup.findAll(attrs = {'class':\"Text__StyledText-sc-oo0kvp-0 fpunvK\"}).text\n",
    "       # data.insert(index, [URL, name, priceVar, discountVar, deliveryVar])\n",
    "        df.loc[len(df)] = [URL, pname, price, discount, delivery]\n",
    "    else:\n",
    "        print(\"URL not found\", i)\n",
    "\n",
    "extract = pd.DataFrame(df, columns = ['Link', 'ProductName', 'Price', 'Discount', 'DeliveryCharge'])\n",
    "extract.to_csv('Meesho.csv')\n",
    "#extract.to_csv(r'~/Desktop/Meesho.csv')\n",
    "        "
   ]
  },
  {
   "cell_type": "code",
   "execution_count": null,
   "metadata": {},
   "outputs": [],
   "source": []
  }
 ],
 "metadata": {
  "interpreter": {
   "hash": "3d597f4c481aa0f25dceb95d2a0067e73c0966dcbd003d741d821a7208527ecf"
  },
  "kernelspec": {
   "display_name": "Python 3.9.5 64-bit ('base': conda)",
   "language": "python",
   "name": "python3"
  },
  "language_info": {
   "codemirror_mode": {
    "name": "ipython",
    "version": 3
   },
   "file_extension": ".py",
   "mimetype": "text/x-python",
   "name": "python",
   "nbconvert_exporter": "python",
   "pygments_lexer": "ipython3",
   "version": "3.9.5"
  },
  "orig_nbformat": 4
 },
 "nbformat": 4,
 "nbformat_minor": 2
}
